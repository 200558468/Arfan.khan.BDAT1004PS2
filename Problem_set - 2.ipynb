{
 "cells": [
  {
   "cell_type": "markdown",
   "id": "c206f596",
   "metadata": {},
   "source": [
    "# Question 1"
   ]
  },
  {
   "cell_type": "code",
   "execution_count": 15,
   "id": "c090ccb2",
   "metadata": {},
   "outputs": [],
   "source": [
    "a = 0\n",
    "def b():\n",
    "    global a\n",
    "    a = c(a)\n",
    "\n",
    "def c(a):\n",
    "    return a + 2"
   ]
  },
  {
   "cell_type": "code",
   "execution_count": 16,
   "id": "d481e0c1",
   "metadata": {},
   "outputs": [],
   "source": [
    "b()"
   ]
  },
  {
   "cell_type": "code",
   "execution_count": 17,
   "id": "05fe2fe4",
   "metadata": {},
   "outputs": [],
   "source": [
    "b()"
   ]
  },
  {
   "cell_type": "code",
   "execution_count": 18,
   "id": "fb95e984",
   "metadata": {},
   "outputs": [],
   "source": [
    "b()"
   ]
  },
  {
   "cell_type": "code",
   "execution_count": 19,
   "id": "7e385027",
   "metadata": {},
   "outputs": [
    {
     "data": {
      "text/plain": [
       "6"
      ]
     },
     "execution_count": 19,
     "metadata": {},
     "output_type": "execute_result"
    }
   ],
   "source": [
    "a"
   ]
  },
  {
   "cell_type": "markdown",
   "id": "ba73e09a",
   "metadata": {},
   "source": [
    "When the function b() is called for the first time - <br>\n",
    "\n",
    "The function b() is executed. </br>\n",
    "Inside b(), the global keyword is used to indicate that the variable a being referred to is the global variable, not a local variable. </br>\n",
    "</br> \n",
    "The function c(a) is called with the current value of a, which is 0.\n",
    "Inside c(a), the value of a (0) is added to 2, resulting in 2.\n",
    "The value 2 is returned from c(a).<br>\n",
    "The global variable a is updated with the returned value, so now a is 2.<br>\n",
    "\n",
    "b() is called for the second time:\n",
    "\n",
    "The function b() is executed again.\n",
    "Inside b(), the global keyword is used to indicate that the variable a being referred to is the global variable.\n",
    "The function c(a) is called with the current value of a, which is 2 (updated from the previous step).\n",
    "Inside c(a), the value of a (2) is added to 2, resulting in 4.\n",
    "The value 4 is returned from c(a).\n",
    "The global variable a is updated with the returned value, so now a is 4. <br>\n",
    "\n",
    "b() is called for the third time:\n",
    "\n",
    "The function b() is executed once more.\n",
    "Inside b(), the global keyword is used to indicate that the variable a being referred to is the global variable.\n",
    "The function c(a) is called with the current value of a, which is 4 (updated from the previous step).\n",
    "Inside c(a), the value of a (4) is added to 2, resulting in 6.\n",
    "The value 6 is returned from c(a).\n",
    "The global variable a is updated with the returned value, so now a is 6.\n",
    "a is evaluated:\n",
    "\n",
    "The current value of a is 6.\n",
    "When we evaluate a, the value 6 is displayed.\n"
   ]
  },
  {
   "cell_type": "markdown",
   "id": "5e0007c0",
   "metadata": {},
   "source": [
    "# Question 2\n"
   ]
  },
  {
   "cell_type": "code",
   "execution_count": 35,
   "id": "f5877d22",
   "metadata": {},
   "outputs": [],
   "source": [
    "def file_length(file_name):\n",
    "    try:\n",
    "        \n",
    "        file = open(file_name)\n",
    "        contents = file.read()\n",
    "        file.close()\n",
    "        print(len(contents))\n",
    "    except FileNotFoundError:\n",
    "        print(f\"File {file_name} not found\")"
   ]
  },
  {
   "cell_type": "code",
   "execution_count": 36,
   "id": "ed85acb8",
   "metadata": {},
   "outputs": [
    {
     "name": "stdout",
     "output_type": "stream",
     "text": [
      "123\n"
     ]
    }
   ],
   "source": [
    "file_length('midterm.py')"
   ]
  },
  {
   "cell_type": "code",
   "execution_count": 37,
   "id": "1bd557c9",
   "metadata": {},
   "outputs": [
    {
     "name": "stdout",
     "output_type": "stream",
     "text": [
      "File idterm.py not found\n"
     ]
    }
   ],
   "source": [
    "file_length(\"idterm.py\")"
   ]
  },
  {
   "cell_type": "markdown",
   "id": "a2f1761e",
   "metadata": {},
   "source": [
    "# Question 3\n"
   ]
  },
  {
   "cell_type": "code",
   "execution_count": 82,
   "id": "2311f0d7",
   "metadata": {},
   "outputs": [],
   "source": [
    "class Marsupial:\n",
    "    # Marsupial class represents a pouch that can hold items\n",
    "    \n",
    "    def __init__(self):\n",
    "        # Constructor method that initializes an empty list to store items in the pouch\n",
    "        self.contents = []\n",
    "    \n",
    "    def put_in_pouch(self, item: str):\n",
    "        # Method to put an item into the pouch\n",
    "        self.contents.append(item)\n",
    "        \n",
    "    def pouch_contents(self):\n",
    "        # Method to display the contents of the pouch\n",
    "        print(self.contents)\n"
   ]
  },
  {
   "cell_type": "code",
   "execution_count": 83,
   "id": "7e76574c",
   "metadata": {},
   "outputs": [],
   "source": [
    "m = Marsupial()"
   ]
  },
  {
   "cell_type": "code",
   "execution_count": 84,
   "id": "52776bf8",
   "metadata": {},
   "outputs": [
    {
     "name": "stdout",
     "output_type": "stream",
     "text": [
      "['doll', 'firetruck', 'kitten']\n"
     ]
    }
   ],
   "source": [
    "m.put_in_pouch('doll')\n",
    "m.put_in_pouch('firetruck')\n",
    "m.put_in_pouch('kitten')\n",
    "m.pouch_contents()"
   ]
  },
  {
   "cell_type": "code",
   "execution_count": 85,
   "id": "3430b8ca",
   "metadata": {},
   "outputs": [],
   "source": [
    "class Kangaroo(Marsupial):\n",
    "    def __init__(self,x,y):\n",
    "        Marsupial.__init__(self)\n",
    "        self.x = x\n",
    "        self.y = y\n",
    "    \n",
    "    def jump(self,x ,y):\n",
    "        self.x += x\n",
    "        self.y += y\n",
    "    \n",
    "    def __str__(self):\n",
    "        return f\"I am a Kangaroo located at coordinated ({self.x},{self.y})\""
   ]
  },
  {
   "cell_type": "code",
   "execution_count": 86,
   "id": "4a9dbabc",
   "metadata": {},
   "outputs": [
    {
     "name": "stdout",
     "output_type": "stream",
     "text": [
      "I am a Kangaroo located at coordinated (0,0)\n"
     ]
    }
   ],
   "source": [
    "k = Kangaroo(0,0)\n",
    "print(k)"
   ]
  },
  {
   "cell_type": "code",
   "execution_count": 87,
   "id": "460bc020",
   "metadata": {},
   "outputs": [
    {
     "name": "stdout",
     "output_type": "stream",
     "text": [
      "['doll', 'firetruck', 'kitten']\n"
     ]
    }
   ],
   "source": [
    "k.put_in_pouch('doll')\n",
    "k.put_in_pouch('firetruck')\n",
    "k.put_in_pouch('kitten')\n",
    "k.pouch_contents()"
   ]
  },
  {
   "cell_type": "code",
   "execution_count": 88,
   "id": "25705fc3",
   "metadata": {},
   "outputs": [
    {
     "name": "stdout",
     "output_type": "stream",
     "text": [
      "I am a Kangaroo located at coordinated (3,0)\n"
     ]
    }
   ],
   "source": [
    "k.jump(1,0)\n",
    "k.jump(1,0)\n",
    "k.jump(1,0)\n",
    "print(k)"
   ]
  },
  {
   "cell_type": "markdown",
   "id": "98f55c93",
   "metadata": {},
   "source": [
    "# Question 4"
   ]
  },
  {
   "cell_type": "code",
   "execution_count": 80,
   "id": "a22a6974",
   "metadata": {},
   "outputs": [],
   "source": [
    "def collatz(x):\n",
    "    # Check if x is less than or equal to 0 or not an integer\n",
    "    if x <= 0 or type(x) != int:\n",
    "        print(\"Enter a positive number\")\n",
    "        return\n",
    "\n",
    "    # Print the current value of x\n",
    "    print(int(x))\n",
    "\n",
    "    # Check if x is equal to 1, if so, stop the recursion\n",
    "    if x == 1:\n",
    "        return\n",
    "    # Check if x is even\n",
    "    elif x % 2 == 0:\n",
    "        # Update x by dividing it by 2\n",
    "        x /= 2\n",
    "    else:\n",
    "        # Update x using the collatz sequence: 3x + 1\n",
    "        x = (3 * x) + 1\n",
    "\n",
    "    # Recursively call collatz with the updated value of x\n",
    "    collatz(int(x))\n"
   ]
  },
  {
   "cell_type": "code",
   "execution_count": 81,
   "id": "6b44e40f",
   "metadata": {},
   "outputs": [
    {
     "name": "stdout",
     "output_type": "stream",
     "text": [
      "10\n",
      "5\n",
      "16\n",
      "8\n",
      "4\n",
      "2\n",
      "1\n"
     ]
    }
   ],
   "source": [
    "collatz(10)"
   ]
  },
  {
   "cell_type": "markdown",
   "id": "c1d4ca57",
   "metadata": {},
   "source": [
    "# Question 5\n"
   ]
  },
  {
   "cell_type": "code",
   "execution_count": 89,
   "id": "2ad69f9c",
   "metadata": {},
   "outputs": [],
   "source": [
    "def binary(n, binary_string = ''):\n",
    "    # Function to convert a non-negative integer 'n' to its binary representation.\n",
    "\n",
    "    # Check if 'n' is less than 0 or not an integer, if so, display an error message and return.\n",
    "    if n < 0 or type(n) != int:\n",
    "        print(\"Enter a non-negative integer\")\n",
    "        return\n",
    "\n",
    "    # Base case: if 'n' is less than or equal to 1, it means we have reached the end of the binary representation.\n",
    "    if n <= 1:\n",
    "        # Append the remainder of 'n' divided by 2 to the 'binary_string'.\n",
    "        binary_string = str(n % 2) + binary_string\n",
    "        # Print the final binary representation of 'n'.\n",
    "        print(binary_string)\n",
    "        return\n",
    "    else:\n",
    "        # Recursive case: 'n' is greater than 1, so we continue the binary conversion process.\n",
    "\n",
    "        # Append the remainder of 'n' divided by 2 to the 'binary_string'.\n",
    "        binary_string = str(n % 2) + binary_string\n",
    "\n",
    "        # Recursive call to 'binary' with 'n' divided by 2 (integer division) and the updated 'binary_string'.\n",
    "        binary(n // 2, binary_string)\n"
   ]
  },
  {
   "cell_type": "code",
   "execution_count": 90,
   "id": "07a35c7c",
   "metadata": {},
   "outputs": [
    {
     "name": "stdout",
     "output_type": "stream",
     "text": [
      "0\n"
     ]
    }
   ],
   "source": [
    "binary(0)"
   ]
  },
  {
   "cell_type": "code",
   "execution_count": 91,
   "id": "af561a2f",
   "metadata": {},
   "outputs": [
    {
     "name": "stdout",
     "output_type": "stream",
     "text": [
      "1\n"
     ]
    }
   ],
   "source": [
    "binary(1)"
   ]
  },
  {
   "cell_type": "code",
   "execution_count": 92,
   "id": "e39801be",
   "metadata": {},
   "outputs": [
    {
     "name": "stdout",
     "output_type": "stream",
     "text": [
      "11\n"
     ]
    }
   ],
   "source": [
    "binary(3)"
   ]
  },
  {
   "cell_type": "code",
   "execution_count": 93,
   "id": "4af07566",
   "metadata": {},
   "outputs": [
    {
     "name": "stdout",
     "output_type": "stream",
     "text": [
      "1001\n"
     ]
    }
   ],
   "source": [
    "binary(9)"
   ]
  },
  {
   "cell_type": "markdown",
   "id": "5df3e8fe",
   "metadata": {},
   "source": [
    "# Questions 6"
   ]
  },
  {
   "cell_type": "code",
   "execution_count": 94,
   "id": "ce08b540",
   "metadata": {},
   "outputs": [],
   "source": [
    "from html.parser import HTMLParser\n",
    "\n",
    "class HeadingParser(HTMLParser):\n",
    "    def __init__(self):\n",
    "        # Constructor method that initializes the HeadingParser object\n",
    "        HTMLParser.__init__(self)\n",
    "        # List of heading tags\n",
    "        self.heading_tags = ['h1', 'h2', 'h3', 'h4', 'h5', 'h6']\n",
    "        # Flag to track if we are inside a heading\n",
    "        self.in_heading = False\n",
    "        # Variable to track the indentation level of the heading\n",
    "        self.tab_count = 0\n",
    "    \n",
    "    def handle_starttag(self, tag, attrs):\n",
    "        # Method called when a start tag is encountered\n",
    "\n",
    "        # Check if the tag is a heading tag\n",
    "        if tag in self.heading_tags:\n",
    "            # Set the in_heading flag to True to indicate that we are inside a heading\n",
    "            self.in_heading = True\n",
    "            # Set the tab_count to the level of the heading (e.g., h1 corresponds to 0 tabs, h2 corresponds to 1 tab, and so on)\n",
    "            self.tab_count = int(tag[-1]) - 1\n",
    "        \n",
    "    def handle_endtag(self, tag):\n",
    "        # Method called when an end tag is encountered\n",
    "\n",
    "        # Check if the tag is a heading tag\n",
    "        if tag in self.heading_tags:\n",
    "            # Set the in_heading flag to False to indicate that we are no longer inside a heading\n",
    "            self.in_heading = False\n",
    "            # Reset the tab_count to 0 since we are outside the heading\n",
    "        \n",
    "    def handle_data(self, data):\n",
    "        # Method called to handle data within an element\n",
    "\n",
    "        # Check if we are inside a heading\n",
    "        if self.in_heading:\n",
    "            # Print the data (heading text) with the appropriate indentation based on the tab_count\n",
    "            print('\\t' * self.tab_count, data)\n"
   ]
  },
  {
   "cell_type": "code",
   "execution_count": 95,
   "id": "95f38274",
   "metadata": {},
   "outputs": [],
   "source": [
    "infile = open('w3c.html','r')\n",
    "content = infile.read()\n",
    "infile.close()"
   ]
  },
  {
   "cell_type": "code",
   "execution_count": 96,
   "id": "2f1a51e0",
   "metadata": {},
   "outputs": [],
   "source": [
    "hp = HeadingParser()"
   ]
  },
  {
   "cell_type": "code",
   "execution_count": 97,
   "id": "d0a523a7",
   "metadata": {},
   "outputs": [
    {
     "name": "stdout",
     "output_type": "stream",
     "text": [
      " W3C Mission\n",
      "\t Principles\n"
     ]
    }
   ],
   "source": [
    "hp.feed(content)"
   ]
  },
  {
   "cell_type": "markdown",
   "id": "40ad48cd",
   "metadata": {},
   "source": [
    "# Questions 7"
   ]
  },
  {
   "cell_type": "code",
   "execution_count": 98,
   "id": "45025ba1",
   "metadata": {},
   "outputs": [],
   "source": [
    "from urllib.request import urlopen\n",
    "from urllib.parse import urljoin\n",
    "from html.parser import HTMLParser\n",
    "\n",
    "class MyHTMLParser(HTMLParser):\n",
    "    def __init__(self, url):\n",
    "        # Constructor method that initializes the MyHTMLParser object\n",
    "        HTMLParser.__init__(self)\n",
    "        # List to store the extracted links\n",
    "        self.links = []\n",
    "        # URL of the page being parsed\n",
    "        self.url = url\n",
    "    \n",
    "    def handle_starttag(self, tag, attrs):\n",
    "        # Method called when a start tag is encountered\n",
    "        \n",
    "        # Check if the tag is an anchor tag ('a')\n",
    "        if tag == 'a':\n",
    "            for attr in attrs:\n",
    "                if attr[0] == 'href':\n",
    "                    # Construct the absolute URL by joining the base URL with the href attribute\n",
    "                    absolute = urljoin(self.url, attr[1].strip())\n",
    "                    if absolute[:4] == 'http':\n",
    "                        # If the URL starts with 'http', it is considered an absolute URL\n",
    "                        self.links.append(absolute)\n",
    "    \n",
    "    def get_links(self):\n",
    "        # Method to retrieve the extracted links\n",
    "        return self.links\n",
    "\n",
    "\n",
    "def webdir(url: str, depth: int, indent: int, print_url=True):\n",
    "    # Function to crawl a website and print its directory structure\n",
    "    \n",
    "    if print_url:\n",
    "        # If print_url is True, print the current URL with appropriate indentation\n",
    "        print('\\t' * indent, url)\n",
    "    \n",
    "    if depth <= 0:\n",
    "        # If depth is 0 or less, stop crawling and return\n",
    "        return\n",
    "    \n",
    "    # Send a request to the URL and retrieve the response\n",
    "    response = urlopen(url)\n",
    "    \n",
    "    if response.code != 200:\n",
    "        # Check if there was an error while retrieving the page\n",
    "        print(f\"Error while retrieving page {response.geturl()}, Status Code: {response.code}\")\n",
    "        return\n",
    "    \n",
    "    # Create an instance of MyHTMLParser and pass the URL to it\n",
    "    parser = MyHTMLParser(url)\n",
    "    # Read the content of the response and decode it\n",
    "    content = response.read().decode('utf-8', errors='ignore')\n",
    "    # Parse the HTML content\n",
    "    parser.feed(content)\n",
    "    # Get the extracted links from the parser\n",
    "    links = parser.get_links()\n",
    "    \n",
    "    for link in links:\n",
    "        # Print each link with appropriate indentation\n",
    "        print('\\t' * (indent + 1), link)\n",
    "        # Recursively call webdir on each link to crawl further\n",
    "        webdir(link, depth - 1, indent + 1, False)\n"
   ]
  },
  {
   "cell_type": "code",
   "execution_count": 99,
   "id": "11b8c684",
   "metadata": {},
   "outputs": [
    {
     "name": "stdout",
     "output_type": "stream",
     "text": [
      " http://reed.cs.depaul.edu/lperkovic/csc242/lecture1/\n",
      "\t http://reed.cs.depaul.edu/lperkovic/csc242/lecture1/Ch7.pptx\n",
      "\t http://reed.cs.depaul.edu/lperkovic/csc242/lecture1/caseStudy6/blackjack.py\n",
      "\t http://reed.cs.depaul.edu/lperkovic/csc242/lecture1/emoticon.py\n",
      "\t http://reed.cs.depaul.edu/lperkovic/csc242/lecture1/chapter7.zip\n"
     ]
    }
   ],
   "source": [
    "url2 = 'http://reed.cs.depaul.edu/lperkovic/csc242/lecture1/'\n",
    "webdir(url2, 2,0)"
   ]
  },
  {
   "cell_type": "markdown",
   "id": "c28655d8",
   "metadata": {},
   "source": [
    "# Question 8"
   ]
  },
  {
   "cell_type": "markdown",
   "id": "4f96b4a8",
   "metadata": {},
   "source": [
    "Write SQL queries on the below database table that return:<br>\n",
    "a) All the temperature data.<br>\n",
    "b) All the cities, but without repetition.<br>\n",
    "c) All the records for India.<br>\n",
    "d) All the Fall records<br>\n",
    "e) The city, country, and season for which the average rainfall is between 200 and 400 millimeters.<br>\n",
    "f) The city and country for which the average Fall temperature is above 20 degrees, in increasing temperature order.<br>\n",
    "g) The total annual rainfall for Cairo.<br>\n",
    "h) The total rainfall for each season<br>"
   ]
  },
  {
   "cell_type": "markdown",
   "id": "30f63935",
   "metadata": {},
   "source": [
    "City Country Season Temperature(C) Rainfall(mm) <br>\n",
    "Mumbai India Winter 24.8 5.9<br>\n",
    "Mumbai India Spring 28.4 16.2<br>\n",
    "Mumbai India Summer 27.9 1549.4<br>\n",
    "Mumbai India Fall 27.6 346.0<br>\n",
    "London United Kingdom Winter 4.2 207.7<br>\n",
    "London United Kingdom Spring 8.3 169.6<br>\n",
    "London United Kingdom Summer 15.7 157.0<br>\n",
    "London United Kingdom Fall 10.4 218.5<br>\n",
    "Cairo Egypt Winter 13.6 16.5<br>\n",
    "Cairo Egypt Spring 20.7 6.5<br>\n",
    "Cairo Egypt Summer 27.7 0.1 <br>\n",
    "Cairo Egypt Fall 22.2 4.5<br>\n"
   ]
  },
  {
   "cell_type": "markdown",
   "id": "94fa0759",
   "metadata": {},
   "source": [
    "### Solution - \n",
    "a) All the temperature data.  \n",
    "Solution: SELECT temperature from city_temp;  \n",
    "\n",
    "b) All the cities, but without repetition.  \n",
    "Solution: SELECT DISTINCT city FROM city_temp\n",
    "\n",
    "c) All the records for India.  \n",
    "Solution: SELECT * FROM city_temp WHERE country = \"India\"\n",
    "\n",
    "d) All the Fall records.  \n",
    "Solution: SELECT * FROM city_temp WHERE season = \"Fall\"\n",
    "\n",
    "e) The city, country, and season for which the average rainfall is between 200\n",
    "and 400 millimeters.  \n",
    "Solution: SELECT city, country, season FROM city_temp WHERE rainfall BETWEEN 200.0 AND 300.0  \n",
    "\n",
    "f) The city and country for which the average Fall temperature is above 20\n",
    "degrees, in increasing temperature order.    \n",
    "Solution: SELECT city , country from city_temp GROUP BY city HAVING AVG(temperature) > 20 ORDER BY temperature ASC\n",
    "\n",
    "g) The total annual rainfall for Cairo.  \n",
    "Solution: SELECT SUM(rainfall) as total_rainfall_in_cairo from city_temp WHERE city = 'Cairo'\n",
    "\n",
    "h) The total rainfall for each season.  \n",
    "Solution: SELECT SUM(rainfall) as total_rainfall, country FROM city_temp GROUP BY country"
   ]
  },
  {
   "cell_type": "markdown",
   "id": "65ba5c01",
   "metadata": {},
   "source": [
    "# Question 9"
   ]
  },
  {
   "cell_type": "markdown",
   "id": "518302a8",
   "metadata": {},
   "source": [
    " Suppose list words is defined as follows:\n",
    ".>>> words = ['The', 'quick', 'brown', 'fox', 'jumps', 'over','the', 'lazy', 'dog']  \n",
    "\n",
    "Write list comprehension expressions that use list words and generate the following lists:  \n",
    "a) ['THE', 'QUICK', 'BROWN', 'FOX', 'JUMPS', 'OVER', 'THE','LAZY', 'DOG']  \n",
    "\n",
    "b) ['the', 'quick', 'brown', 'fox', 'jumps', 'over', 'the','lazy', 'dog']  \n",
    "\n",
    "c) [3, 5, 5, 3, 5, 4, 3, 4, 3] (the list of lengths of words in list words).  \n",
    "\n",
    "d) [['THE', 'the', 3], ['QUICK', 'quick', 5], ['BROWN','brown', 5], ['FOX', 'fox', 3], ['JUMPS', 'jumps', 5],['OVER', 'over', 4]['THE', 'the', 3], ['LAZY', 'lazy',4], ['DOG', 'dog', 3]] (the list containing a list for every word of list words, where each list contains the word in uppercase and lowercase and the length of the word.)  \n",
    "\n",
    "e) ['The', 'quick', 'brown', 'fox', 'jumps', 'over', 'the','lazy', 'dog'] (the list of words in list words containing 4 or more characters.)  \n"
   ]
  },
  {
   "cell_type": "code",
   "execution_count": 74,
   "id": "f1bab3e6",
   "metadata": {},
   "outputs": [],
   "source": [
    "words = ['The', 'quick', 'brown', 'fox', 'jumps', 'over','the', 'lazy', 'dog']"
   ]
  },
  {
   "cell_type": "code",
   "execution_count": 75,
   "id": "e633cf47",
   "metadata": {},
   "outputs": [
    {
     "data": {
      "text/plain": [
       "['THE', 'QUICK', 'BROWN', 'FOX', 'JUMPS', 'OVER', 'THE', 'LAZY', 'DOG']"
      ]
     },
     "execution_count": 75,
     "metadata": {},
     "output_type": "execute_result"
    }
   ],
   "source": [
    "solution_a = [word.upper() for word in words]\n",
    "solution_a"
   ]
  },
  {
   "cell_type": "code",
   "execution_count": 76,
   "id": "ef65edd1",
   "metadata": {},
   "outputs": [
    {
     "data": {
      "text/plain": [
       "['the', 'quick', 'brown', 'fox', 'jumps', 'over', 'the', 'lazy', 'dog']"
      ]
     },
     "execution_count": 76,
     "metadata": {},
     "output_type": "execute_result"
    }
   ],
   "source": [
    "solution_b = [word.lower() for word in words]\n",
    "solution_b"
   ]
  },
  {
   "cell_type": "code",
   "execution_count": 77,
   "id": "3909d9d1",
   "metadata": {},
   "outputs": [
    {
     "data": {
      "text/plain": [
       "[3, 5, 5, 3, 5, 4, 3, 4, 3]"
      ]
     },
     "execution_count": 77,
     "metadata": {},
     "output_type": "execute_result"
    }
   ],
   "source": [
    "solution_c = [len(word) for word in words]\n",
    "solution_c"
   ]
  },
  {
   "cell_type": "code",
   "execution_count": 78,
   "id": "6143e2d2",
   "metadata": {},
   "outputs": [
    {
     "data": {
      "text/plain": [
       "[['THE', 'the', 3],\n",
       " ['QUICK', 'quick', 5],\n",
       " ['BROWN', 'brown', 5],\n",
       " ['FOX', 'fox', 3],\n",
       " ['JUMPS', 'jumps', 5],\n",
       " ['OVER', 'over', 4],\n",
       " ['THE', 'the', 3],\n",
       " ['LAZY', 'lazy', 4],\n",
       " ['DOG', 'dog', 3]]"
      ]
     },
     "execution_count": 78,
     "metadata": {},
     "output_type": "execute_result"
    }
   ],
   "source": [
    "solution_d = [[word.upper(), word.lower(), len(word)] for word in words]\n",
    "solution_d"
   ]
  },
  {
   "cell_type": "code",
   "execution_count": 79,
   "id": "70b8b2ca",
   "metadata": {},
   "outputs": [
    {
     "data": {
      "text/plain": [
       "['quick', 'brown', 'jumps', 'over', 'lazy']"
      ]
     },
     "execution_count": 79,
     "metadata": {},
     "output_type": "execute_result"
    }
   ],
   "source": [
    "solution_e = [word for word in words if len(word) >=4]\n",
    "solution_e"
   ]
  },
  {
   "cell_type": "code",
   "execution_count": null,
   "id": "7048587e",
   "metadata": {},
   "outputs": [],
   "source": []
  }
 ],
 "metadata": {
  "kernelspec": {
   "display_name": "Python 3 (ipykernel)",
   "language": "python",
   "name": "python3"
  },
  "language_info": {
   "codemirror_mode": {
    "name": "ipython",
    "version": 3
   },
   "file_extension": ".py",
   "mimetype": "text/x-python",
   "name": "python",
   "nbconvert_exporter": "python",
   "pygments_lexer": "ipython3",
   "version": "3.10.9"
  }
 },
 "nbformat": 4,
 "nbformat_minor": 5
}
